{
 "cells": [
  {
   "cell_type": "code",
   "execution_count": 1,
   "id": "25f098a2",
   "metadata": {},
   "outputs": [],
   "source": [
    "import numpy as np\n",
    "import matplotlib.pyplot as plt\n",
    "import pandas as pd"
   ]
  },
  {
   "cell_type": "code",
   "execution_count": 1,
   "id": "ca874bd4",
   "metadata": {},
   "outputs": [],
   "source": [
    "#File Getter"
   ]
  },
  {
   "cell_type": "code",
   "execution_count": 2,
   "id": "50250e5f",
   "metadata": {},
   "outputs": [],
   "source": [
    "#Time Getter"
   ]
  },
  {
   "cell_type": "code",
   "execution_count": 5,
   "id": "6ec97ec4",
   "metadata": {},
   "outputs": [],
   "source": [
    "#Analyser"
   ]
  },
  {
   "cell_type": "code",
   "execution_count": 6,
   "id": "02585625",
   "metadata": {},
   "outputs": [],
   "source": [
    "#File Writer"
   ]
  },
  {
   "cell_type": "code",
   "execution_count": 4,
   "id": "ca34bbba",
   "metadata": {},
   "outputs": [],
   "source": []
  },
  {
   "cell_type": "code",
   "execution_count": null,
   "id": "d7257e2c",
   "metadata": {},
   "outputs": [],
   "source": []
  }
 ],
 "metadata": {
  "kernelspec": {
   "display_name": "Python 3",
   "language": "python",
   "name": "python3"
  },
  "language_info": {
   "codemirror_mode": {
    "name": "ipython",
    "version": 3
   },
   "file_extension": ".py",
   "mimetype": "text/x-python",
   "name": "python",
   "nbconvert_exporter": "python",
   "pygments_lexer": "ipython3",
   "version": "3.8.8"
  }
 },
 "nbformat": 4,
 "nbformat_minor": 5
}
